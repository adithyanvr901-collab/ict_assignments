{
  "nbformat": 4,
  "nbformat_minor": 0,
  "metadata": {
    "colab": {
      "provenance": [],
      "authorship_tag": "ABX9TyPcGsUqf6I7B4HDa7S4VPo6",
      "include_colab_link": true
    },
    "kernelspec": {
      "name": "python3",
      "display_name": "Python 3"
    },
    "language_info": {
      "name": "python"
    }
  },
  "cells": [
    {
      "cell_type": "markdown",
      "metadata": {
        "id": "view-in-github",
        "colab_type": "text"
      },
      "source": [
        "<a href=\"https://colab.research.google.com/github/adithyanvr901-collab/ict_assignments/blob/main/Assignment02_adithyan.ipynb\" target=\"_parent\"><img src=\"https://colab.research.google.com/assets/colab-badge.svg\" alt=\"Open In Colab\"/></a>"
      ]
    },
    {
      "cell_type": "markdown",
      "source": [
        "*QUESTION NUMBER 1*"
      ],
      "metadata": {
        "id": "ww68EYKlDWn1"
      }
    },
    {
      "cell_type": "code",
      "execution_count": null,
      "metadata": {
        "colab": {
          "base_uri": "https://localhost:8080/"
        },
        "id": "xjTe5FfGA6v2",
        "outputId": "5c6c106d-3da0-4acf-f0c9-0cb599d9c31f"
      },
      "outputs": [
        {
          "output_type": "stream",
          "name": "stdout",
          "text": [
            "enter the number15\n",
            "Fizzbuzz\n"
          ]
        }
      ],
      "source": [
        "n = int(input(\"enter the number\"))\n",
        "if n%3==0 and n%5==0:\n",
        "  print(\"Fizzbuzz\")\n",
        "elif n%3==0:\n",
        "  print(\"Fizz\")\n",
        "elif n%5==0:\n",
        "  print(\"buzz\")\n",
        "else:\n",
        "  print(n)"
      ]
    },
    {
      "cell_type": "markdown",
      "source": [
        "*QUESTION NUMBER 2*"
      ],
      "metadata": {
        "id": "mJU3lsv-D8OD"
      }
    },
    {
      "cell_type": "code",
      "source": [
        "\n",
        "n=int(input(\"entere the number of unit consumed\"))\n",
        "totalamount = 0\n",
        "if n <=100:\n",
        "  totalamount = n*5\n",
        "elif n <= 200:\n",
        "  totalamount = (100*5) + (n-100) * 7\n",
        "else:\n",
        "  totalamount = (100*5) + (100*7)+((n-200)*10)\n",
        "print(f\"Total Bill amount :{totalamount}\")\n"
      ],
      "metadata": {
        "id": "fO115knNDkq8",
        "outputId": "391b7ef6-876d-4137-9133-eacba63a8410",
        "colab": {
          "base_uri": "https://localhost:8080/"
        }
      },
      "execution_count": 17,
      "outputs": [
        {
          "output_type": "stream",
          "name": "stdout",
          "text": [
            "entere the number of unit consumed245\n",
            "Total Bill amount :1650\n"
          ]
        }
      ]
    },
    {
      "cell_type": "markdown",
      "source": [
        "*QUESTION NUMBER 3*"
      ],
      "metadata": {
        "id": "R3fQjp8dF2bB"
      }
    },
    {
      "cell_type": "code",
      "source": [
        "for i in range(1, 6):\n",
        "  print(\"*\" *i)\n",
        ""
      ],
      "metadata": {
        "id": "F5wsBdyaELDi",
        "colab": {
          "base_uri": "https://localhost:8080/"
        },
        "outputId": "e5b255aa-90a3-42ef-9de0-c6608ba5e063"
      },
      "execution_count": 18,
      "outputs": [
        {
          "output_type": "stream",
          "name": "stdout",
          "text": [
            "*\n",
            "**\n",
            "***\n",
            "****\n",
            "*****\n"
          ]
        }
      ]
    },
    {
      "cell_type": "markdown",
      "source": [
        "*QUESTION NUMBER 4*"
      ],
      "metadata": {
        "id": "3K7XWs0XJ-kj"
      }
    },
    {
      "cell_type": "code",
      "source": [
        "pal = str(input(\"Enter a number or string:\"))\n",
        "rev_pal = pal[::-1]\n",
        "if rev_pal == pal:\n",
        "  print(pal,\"is a palindrome\")\n",
        "else:\n",
        "  print(pal,\"is not a palindrome\")"
      ],
      "metadata": {
        "colab": {
          "base_uri": "https://localhost:8080/"
        },
        "id": "dxosFPiOJ9Rb",
        "outputId": "8a3d8141-d227-457d-af0d-2b56bb1f16bd"
      },
      "execution_count": 21,
      "outputs": [
        {
          "output_type": "stream",
          "name": "stdout",
          "text": [
            "Enter a number or string:121\n",
            "121 is a palindrome\n"
          ]
        }
      ]
    },
    {
      "cell_type": "code",
      "source": [],
      "metadata": {
        "id": "WAVUklpTMCZI"
      },
      "execution_count": 21,
      "outputs": []
    }
  ]
}